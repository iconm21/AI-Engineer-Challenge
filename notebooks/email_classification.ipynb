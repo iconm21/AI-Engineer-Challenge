{
 "cells": [
  {
   "cell_type": "markdown",
   "id": "da1fc9d9",
   "metadata": {},
   "source": [
    "# Email Classification — Notebook"
   ]
  },
  {
   "cell_type": "code",
   "execution_count": null,
   "id": "c32b70ee",
   "metadata": {},
   "outputs": [],
   "source": [
    "import pandas as pd\n",
    "import matplotlib.pyplot as plt\n",
    "from sklearn.model_selection import train_test_split\n",
    "from sklearn.feature_extraction.text import TfidfVectorizer\n",
    "from sklearn.linear_model import LogisticRegression\n",
    "from sklearn.metrics import classification_report, confusion_matrix\n",
    "import numpy as np\n",
    "import re, string\n",
    "\n",
    "# Load data\n",
    "df = pd.read_csv(\"../data/support_emails.csv\")\n",
    "df.head()\n"
   ]
  },
  {
   "cell_type": "code",
   "execution_count": null,
   "id": "a5d149a8",
   "metadata": {},
   "outputs": [],
   "source": [
    "def clean_text(text: str) -> str:\n",
    "    if not isinstance(text, str):\n",
    "        return \"\"\n",
    "    text = text.lower()\n",
    "    text = re.sub(r\"http\\S+\", \"\", text)\n",
    "    text = re.sub(r\"\\d+\", \"\", text)\n",
    "    text = text.translate(str.maketrans(\"\", \"\", string.punctuation))\n",
    "    return text.strip()\n",
    "\n",
    "df[\"text\"] = (df[\"subject\"].astype(str) + \" \" + df[\"body\"].astype(str)).apply(clean_text)\n",
    "\n",
    "def label_email(subject):\n",
    "    subject = str(subject).lower()\n",
    "    if \"billing\" in subject or \"payment\" in subject or \"charged\" in subject:\n",
    "        return \"Billing\"\n",
    "    elif \"login\" in subject or \"account\" in subject or \"access\" in subject or \"password\" in subject:\n",
    "        return \"Login/Account\"\n",
    "    elif \"api\" in subject or \"integration\" in subject:\n",
    "        return \"API/Integration\"\n",
    "    else:\n",
    "        return \"General\"\n",
    "\n",
    "df[\"label\"] = df[\"subject\"].apply(label_email)\n",
    "df.head()\n"
   ]
  },
  {
   "cell_type": "code",
   "execution_count": null,
   "id": "31a3e718",
   "metadata": {},
   "outputs": [],
   "source": [
    "X_train, X_test, y_train, y_test = train_test_split(df[\"text\"], df[\"label\"], test_size=0.2, random_state=42, stratify=df[\"label\"])\n",
    "\n",
    "vectorizer = TfidfVectorizer(max_features=2000, ngram_range=(1,2))\n",
    "X_train_vec = vectorizer.fit_transform(X_train)\n",
    "X_test_vec = vectorizer.transform(X_test)\n",
    "\n",
    "model = LogisticRegression(max_iter=2000)\n",
    "model.fit(X_train_vec, y_train)\n",
    "\n",
    "y_pred = model.predict(X_test_vec)\n",
    "print(classification_report(y_test, y_pred))\n"
   ]
  },
  {
   "cell_type": "code",
   "execution_count": null,
   "id": "b659fd5c",
   "metadata": {},
   "outputs": [],
   "source": [
    "# Confusion matrix with matplotlib only\n",
    "labels = sorted(df[\"label\"].unique())\n",
    "cm = confusion_matrix(y_test, y_pred, labels=labels)\n",
    "\n",
    "fig = plt.figure()\n",
    "plt.imshow(cm, interpolation='nearest')\n",
    "plt.title(\"Confusion Matrix\")\n",
    "plt.colorbar()\n",
    "tick_marks = np.arange(len(labels))\n",
    "plt.xticks(tick_marks, labels, rotation=45, ha=\"right\")\n",
    "plt.yticks(tick_marks, labels)\n",
    "plt.ylabel(\"Actual\")\n",
    "plt.xlabel(\"Predicted\")\n",
    "for i in range(cm.shape[0]):\n",
    "    for j in range(cm.shape[1]):\n",
    "        plt.text(j, i, format(cm[i, j], 'd'), ha=\"center\", va=\"center\")\n",
    "plt.tight_layout()\n",
    "plt.show()\n"
   ]
  },
  {
   "cell_type": "code",
   "execution_count": null,
   "id": "48085ff0",
   "metadata": {},
   "outputs": [],
   "source": [
    "# Try a sample prediction\n",
    "sample_subject = \"Urgent: Payment not going through\"\n",
    "sample_body = \"Hello, my credit card was charged twice.\"\n",
    "sample_text = clean_text(sample_subject + \" \" + sample_body)\n",
    "pred = model.predict(vectorizer.transform([sample_text]))[0]\n",
    "print(\"Predicted Category:\", pred)\n"
   ]
  }
 ],
 "metadata": {},
 "nbformat": 4,
 "nbformat_minor": 5
}
